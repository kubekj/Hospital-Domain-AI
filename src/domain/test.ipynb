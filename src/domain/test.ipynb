{
 "cells": [
  {
   "cell_type": "code",
   "execution_count": 47,
   "metadata": {},
   "outputs": [],
   "source": [
    "import atom\n",
    "import timeit\n",
    "import numba, numpy as np\n",
    "from typing import NamedTuple, Tuple\n",
    "from enum import Enum\n",
    "from dataclasses import dataclass\n",
    "Pos = NamedTuple('Pos', [('row', int), ('col', int)])\n",
    "\n",
    "@dataclass\n",
    "class Location:\n",
    "    row: int\n",
    "    col: int\n",
    "\n",
    "@dataclass(frozen=True)\n",
    "class Location1:\n",
    "    row: int\n",
    "    col: int\n",
    "\n",
    "class Location2:\n",
    "    def __init__(self, a, b) -> None:\n",
    "        self[0]: int = a\n",
    "        self[1]: int = b\n",
    "\n"
   ]
  },
  {
   "cell_type": "code",
   "execution_count": 48,
   "metadata": {},
   "outputs": [],
   "source": [
    "def run_test(f, num, *args):\n",
    "  return timeit.timeit(lambda: f(*args), number=num, globals={'atom': atom})\n",
    "\n",
    "def print_results(results: list[tuple[str,int]]):\n",
    "    # Assuming results is a list of tuples (name, time)\n",
    "    base_name, base_time = results[0]\n",
    "    print(f\"{base_name}: {base_time:.4f} seconds (base)\")\n",
    "    for name, time in results[1:]:\n",
    "        ratio = base_time / time\n",
    "        print(f\"{name}: {time:.4f} seconds, Speed relative to {base_name}: {ratio:.2f}x\")"
   ]
  },
  {
   "cell_type": "code",
   "execution_count": 80,
   "metadata": {},
   "outputs": [
    {
     "name": "stdout",
     "output_type": "stream",
     "text": [
      "tup: 2.8735 seconds (base)\n",
      "atm: 3.7721 seconds, Speed relative to tup: 0.76x\n",
      "arr: 2.9979 seconds, Speed relative to tup: 0.96x\n",
      "dir: 2.8252 seconds, Speed relative to tup: 1.02x\n",
      "pos: 8.2412 seconds, Speed relative to tup: 0.35x\n",
      "loc: 6.3131 seconds, Speed relative to tup: 0.46x\n",
      "loc: 12.0672 seconds, Speed relative to tup: 0.24x\n",
      "cls: 5.5942 seconds, Speed relative to tup: 0.51x\n"
     ]
    }
   ],
   "source": [
    "def make_tuple(a,b): return (a,b)\n",
    "def make_arr(a,b): return [a,b]\n",
    "def make_dir(a,b): return a,b\n",
    "def make_pos(a,b): return Pos(a,b)\n",
    "def make_loc(a,b): return Location(a,b)\n",
    "def make_loc1(a,b): return Location1(a,b)\n",
    "def make_cls(a,b): return Location2(a,b)\n",
    "def make_atom(a,b): return (b << 16) | a\n",
    "\n",
    "num = 10_000_000\n",
    "a, b = 25, 25\n",
    "result = []\n",
    "result.append((\"tup\", run_test(make_tuple, num, a, b)))\n",
    "result.append((\"atm\", run_test(make_atom, num, a, b)))\n",
    "result.append((\"arr\", run_test(make_arr, num, a, b)))\n",
    "result.append((\"dir\", run_test(make_dir, num, a, b)))\n",
    "result.append((\"pos\", run_test(make_pos, num, a, b)))\n",
    "result.append((\"loc\", run_test(make_loc, num, a, b)))\n",
    "result.append((\"loc\", run_test(make_loc1, num, a, b)))\n",
    "result.append((\"cls\", run_test(make_cls, num, a, b)))\n",
    "print_results(result)"
   ]
  },
  {
   "cell_type": "code",
   "execution_count": 81,
   "metadata": {},
   "outputs": [
    {
     "name": "stdout",
     "output_type": "stream",
     "text": [
      "tup    : 2.2600 seconds (base)\n",
      "atm_row: 2.2080 seconds, Speed relative to tup    : 1.02x\n",
      "atm_col: 2.8219 seconds, Speed relative to tup    : 0.80x\n",
      "atm_col: 3.7596 seconds, Speed relative to tup    : 0.60x\n",
      "arr    : 2.3571 seconds, Speed relative to tup    : 0.96x\n",
      "pos    : 2.4126 seconds, Speed relative to tup    : 0.94x\n",
      "loc    : 2.7370 seconds, Speed relative to tup    : 0.83x\n",
      "loc    : 2.7637 seconds, Speed relative to tup    : 0.82x\n",
      "cls    : 2.2348 seconds, Speed relative to tup    : 1.01x\n"
     ]
    }
   ],
   "source": [
    "def get_row_tuple(val): return val[0]\n",
    "def get_row_arr(val): return val[0]\n",
    "def get_row_dir(val): return val[0]\n",
    "def get_row_pos(val): return val[0]\n",
    "def get_row_loc(val): return val[0]\n",
    "def get_row_cls(val): return val[0]\n",
    "def get_row_atom(val): return val & 0xFFFF\n",
    "def get_col_atom(val): return val >> 16 & 0xFFFF\n",
    "def get_bth_atom(val): return val & 0xFFFF, val >> 16 & 0xFFFF\n",
    "\n",
    "num = 10_000_000\n",
    "a, b = 25, 25\n",
    "t1 = (a,b)\n",
    "t2 = [a,b]\n",
    "t4 = Pos(a,b)\n",
    "t5 = Location(a,b)\n",
    "t5_1 = Location1(a,b)\n",
    "t6 = Location2(a,b)\n",
    "t7 = (b << 16) | a\n",
    "\n",
    "result = []\n",
    "result.append((\"tup    \", run_test(get_row_tuple, num, t1)))\n",
    "result.append((\"atm_row\", run_test(get_row_atom, num, t7)))\n",
    "result.append((\"atm_col\", run_test(get_col_atom, num, t7)))\n",
    "result.append((\"atm_col\", run_test(get_bth_atom, num, t7)))\n",
    "result.append((\"arr    \", run_test(get_row_arr, num, t2)))\n",
    "# result.append((\"dir\", run_test(get_row_dir, num, a, b)))\n",
    "result.append((\"pos    \", run_test(get_row_pos, num, t4)))\n",
    "result.append((\"loc    \", run_test(get_row_loc, num, t5)))\n",
    "result.append((\"loc    \", run_test(get_row_loc, num, t5_1)))\n",
    "result.append((\"cls    \", run_test(get_row_cls, num, t6)))\n",
    "print_results(result)"
   ]
  },
  {
   "cell_type": "code",
   "execution_count": 43,
   "metadata": {},
   "outputs": [
    {
     "name": "stdout",
     "output_type": "stream",
     "text": [
      "tup    (True, False, False): 3.4639 seconds (base)\n",
      "atm_row(True, False, False): 4.4761 seconds, Speed relative to tup    (True, False, False): 0.77x\n",
      "atm_col(True, False, False): 4.3468 seconds, Speed relative to tup    (True, False, False): 0.80x\n",
      "atm_col(True, False, False): 4.3253 seconds, Speed relative to tup    (True, False, False): 0.80x\n",
      "atm_bth(True, False, False): 2.2867 seconds, Speed relative to tup    (True, False, False): 1.51x\n",
      "arr    (True, False, False): 2.6002 seconds, Speed relative to tup    (True, False, False): 1.33x\n",
      "pos    (True, False, False): 2.6860 seconds, Speed relative to tup    (True, False, False): 1.29x\n",
      "loc    (True, False, False): 5.4345 seconds, Speed relative to tup    (True, False, False): 0.64x\n",
      "cls    (False, False, False): 2.2838 seconds, Speed relative to tup    (True, False, False): 1.52x\n"
     ]
    }
   ],
   "source": [
    "def test_Values(a,b): return a == b\n",
    "def test_atm_row(a,b): return bool(a & b & 0xFFFF)\n",
    "def test_atm_col1(a,b): return bool(((a & b) >> 16) & 0xFFFF)\n",
    "def test_atm_col2(a,b): return bool((a & b) & 0xFFFF0000)\n",
    "\n",
    "num = 10_000_000\n",
    "a, b = 25, 20\n",
    "t1, t1_1, t1_2, t1_3 = (a,b), (a,b), (b,a), (a+10,b+10)\n",
    "t2, t2_1, t2_2, t2_3 = [a,b], [a,b], [b,a], [a+10,b+10]\n",
    "t4, t4_1, t4_2, t4_3 = Pos(a,b), Pos(a,b), Pos(b,a), Pos(a+10,b+10)\n",
    "t5, t5_1, t5_2, t5_3 = Location(a,b), Location(a,b), Location(b,a), Location(a+10,b+10)\n",
    "t6, t6_1, t6_2, t6_3 = Location2(a,b), Location2(a,b), Location2(b,a), Location2(a+10,b+10)\n",
    "t7, t7_1, t7_2, t7_3 = (b << 16) | a, (b << 16) | a, (a << 16) | b, ((b+10) << 16) | (a+10)\n",
    "\n",
    "result = []\n",
    "result.append((f\"tup    {t1==t1_1, t1==t1_2, t1==t1_3}\", run_test(test_Values, num, t1, t1_1)))\n",
    "result.append((f\"atm_row{t7==t7_1, t7==t7_2, t7==t7_3}\", run_test(test_atm_row, num, t7, t7_1)))\n",
    "result.append((f\"atm_col{t7==t7_1, t7==t7_2, t7==t7_3}\", run_test(test_atm_col1, num, t7, t7_1)))\n",
    "result.append((f\"atm_col{t7==t7_1, t7==t7_2, t7==t7_3}\", run_test(test_atm_col2, num, t7, t7_1)))\n",
    "result.append((f\"atm_bth{t7==t7_1, t7==t7_2, t7==t7_3}\", run_test(test_Values, num, t7, t7_1)))\n",
    "result.append((f\"arr    {t2==t2_1, t2==t2_2, t2==t2_3}\", run_test(test_Values, num, t2, t2_1)))\n",
    "# result.append((\"dir\", run_test(test_Values, num, a, b)))\n",
    "result.append((f\"pos    {t4==t4_1, t4==t4_2, t4==t4_3}\", run_test(test_Values, num, t4, t4_1)))\n",
    "result.append((f\"loc    {t5==t5_1, t5==t5_2, t5==t5_3}\", run_test(test_Values, num, t5, t5_1)))\n",
    "result.append((f\"cls    {t6==t6_1, t6==t6_2, t6==t6_3}\", run_test(test_Values, num, t6, t6_1)))\n",
    "print_results(result)"
   ]
  },
  {
   "cell_type": "code",
   "execution_count": 52,
   "metadata": {},
   "outputs": [
    {
     "name": "stdout",
     "output_type": "stream",
     "text": [
      "tup: 4.4192 seconds (base)\n",
      "atm: 3.9663 seconds, Speed relative to tup: 1.11x\n",
      "arr: 7.5524 seconds, Speed relative to tup: 0.59x\n",
      "arr: 17.8654 seconds, Speed relative to tup: 0.25x\n",
      "dir: 4.0254 seconds, Speed relative to tup: 1.10x\n",
      "pos: 18.4002 seconds, Speed relative to tup: 0.24x\n"
     ]
    }
   ],
   "source": [
    "@numba.njit\n",
    "def make_tuple2(a,b): return (a,b)\n",
    "@numba.njit\n",
    "def make_arr2(a,b): return [a,b]\n",
    "@numba.njit\n",
    "def make_arr3(a,b): return np.array([a,b])\n",
    "@numba.njit\n",
    "def make_dir2(a,b): return a,b\n",
    "@numba.njit\n",
    "def make_pos2(a,b): return Pos(a,b)\n",
    "# @numba.njit\n",
    "# def make_loc2(a,b): return Location(a,b)\n",
    "# @numba.njit\n",
    "# def make_cls2(a,b): return Location2(a,b)\n",
    "@numba.njit\n",
    "def make_atom2(a,b): return (b << 16) | a\n",
    "\n",
    "num = 10_000_000\n",
    "a, b = 25, 25\n",
    "result = []\n",
    "result.append((\"tup\", run_test(make_tuple2, num, a, b)))\n",
    "result.append((\"atm\", run_test(make_atom2, num, a, b)))\n",
    "result.append((\"arr\", run_test(make_arr2, num, a, b)))\n",
    "result.append((\"arr\", run_test(make_arr3, num, a, b)))\n",
    "result.append((\"dir\", run_test(make_dir2, num, a, b)))\n",
    "result.append((\"pos\", run_test(make_pos2, num, a, b)))\n",
    "# result.append((\"loc\", run_test(make_loc2, num, a, b)))\n",
    "# result.append((\"cls\", run_test(make_cls2, num, a, b)))\n",
    "print_results(result)"
   ]
  },
  {
   "cell_type": "code",
   "execution_count": 49,
   "metadata": {},
   "outputs": [
    {
     "name": "stdout",
     "output_type": "stream",
     "text": [
      "tup    : 4.6809 seconds (base)\n",
      "atm_row: 3.3257 seconds, Speed relative to tup    : 1.41x\n",
      "atm_col: 3.3031 seconds, Speed relative to tup    : 1.42x\n",
      "atm_col: 3.7431 seconds, Speed relative to tup    : 1.25x\n",
      "arr    : 5.8834 seconds, Speed relative to tup    : 0.80x\n"
     ]
    }
   ],
   "source": [
    "@numba.njit\n",
    "def get_row_tuple2(val): return val[0]\n",
    "@numba.njit\n",
    "def get_row_arr2(val): return val[0]\n",
    "@numba.njit\n",
    "def get_row_dir2(val): return val[0]\n",
    "@numba.njit\n",
    "def get_row_atom2(val): return val & 0xFFFF\n",
    "@numba.njit\n",
    "def get_col_atom2(val): return val >> 16 & 0xFFFF\n",
    "@numba.njit\n",
    "def get_bth_atom2(val): return val & 0xFFFF, val >> 16 & 0xFFFF\n",
    "\n",
    "num = 10_000_000\n",
    "a, b = 25, 25\n",
    "t1 = (a,b)\n",
    "t2 = np.array([a,b])\n",
    "# t4 = Pos(a,b)\n",
    "# t5 = Location(a,b)\n",
    "# t6 = Location2(a,b)\n",
    "t7 = (b << 16) | a\n",
    "\n",
    "result = []\n",
    "result.append((\"tup    \", run_test(get_row_tuple2, num, t1)))\n",
    "result.append((\"atm_row\", run_test(get_row_atom2, num, t7)))\n",
    "result.append((\"atm_col\", run_test(get_col_atom2, num, t7)))\n",
    "result.append((\"atm_col\", run_test(get_bth_atom2, num, t7)))\n",
    "result.append((\"arr    \", run_test(get_row_arr2, num, t2)))\n",
    "# result.append((\"dir\", run_test(get_row_dir, num, a, b)))\n",
    "# result.append((\"pos    \", run_test(get_row_pos, num, t4)))\n",
    "# result.append((\"loc    \", run_test(get_row_loc, num, t5)))\n",
    "# result.append((\"cls    \", run_test(get_row_cls, num, t6)))\n",
    "print_results(result)"
   ]
  },
  {
   "cell_type": "code",
   "execution_count": 70,
   "metadata": {},
   "outputs": [
    {
     "name": "stdout",
     "output_type": "stream",
     "text": [
      "True\n",
      "False\n",
      "True\n",
      "True\n",
      "num   : 2.2308 seconds (base)\n",
      "create: 8.5183 seconds, Speed relative to num   : 0.26x\n",
      "value : 4.8952 seconds, Speed relative to num   : 0.46x\n",
      "enum  : 2.1508 seconds, Speed relative to num   : 1.04x\n"
     ]
    }
   ],
   "source": [
    "def test_enum(a): return atom.AtomType(a)\n",
    "def test_enum1(a, b): return a == b\n",
    "def test_enum2(a, b): return a == b.value\n",
    "\n",
    "num = 10_000_000\n",
    "a, b = 1, atom.AtomType(1)\n",
    "result = []\n",
    "result.append((\"num   \", run_test(test_enum1, num, a, a)))\n",
    "result.append((\"create\", run_test(test_enum, num, a)))\n",
    "result.append((\"value \", run_test(test_enum2, num, a, b)))\n",
    "result.append((\"enum  \", run_test(test_enum1, num, a, b)))\n",
    "print_results(result)"
   ]
  },
  {
   "cell_type": "code",
   "execution_count": 77,
   "metadata": {},
   "outputs": [
    {
     "name": "stdout",
     "output_type": "stream",
     "text": [
      "True\n",
      "False\n",
      "False\n",
      "True\n",
      "True\n"
     ]
    }
   ],
   "source": [
    "print(Pos(25,24) == (25,24))\n",
    "print(Location(25,24) == (25,24))\n",
    "print(atom.AtomType(1) == 1)\n",
    "print(atom.AtomType(1) == atom.AtomType(1))\n",
    "print(atom.AtomType(1).value == 1)"
   ]
  },
  {
   "cell_type": "code",
   "execution_count": 84,
   "metadata": {},
   "outputs": [
    {
     "name": "stdout",
     "output_type": "stream",
     "text": [
      "a, b: 22 22\n",
      "and: 2.9135 seconds (base)\n",
      "or : 2.8695 seconds, Speed relative to and: 1.02x\n",
      "xor: 3.0318 seconds, Speed relative to and: 0.96x\n",
      "sl : 2.9141 seconds, Speed relative to and: 1.00x\n",
      "sr : 2.9260 seconds, Speed relative to and: 1.00x\n",
      "\n",
      "a, b: 22 0\n",
      "and: 2.6007 seconds (base)\n",
      "or : 2.3644 seconds, Speed relative to and: 1.10x\n",
      "xor: 2.7448 seconds, Speed relative to and: 0.95x\n",
      "sl : 2.9361 seconds, Speed relative to and: 0.89x\n",
      "sr : 2.9558 seconds, Speed relative to and: 0.88x\n",
      "\n",
      "a, b: 0 22\n",
      "and: 2.3733 seconds (base)\n",
      "or : 2.4649 seconds, Speed relative to and: 0.96x\n",
      "xor: 2.3350 seconds, Speed relative to and: 1.02x\n",
      "sl : 2.2245 seconds, Speed relative to and: 1.07x\n",
      "sr : 2.3101 seconds, Speed relative to and: 1.03x\n",
      "\n"
     ]
    }
   ],
   "source": [
    "def bit_and(a,b): return a&b\n",
    "def bit_or(a,b): return a|b\n",
    "def bit_xor(a,b): return a^b\n",
    "def bit_sl(a,b): return a<<b\n",
    "def bit_sr(a,b): return a>>b\n",
    "\n",
    "\n",
    "num = 10_000_000\n",
    "a, b = 22, 22\n",
    "result = []\n",
    "result.append((\"and\", run_test(bit_and, num, a, b)))\n",
    "result.append((\"or \", run_test(bit_or , num, a, b)))\n",
    "result.append((\"xor\", run_test(bit_xor, num, a, b)))\n",
    "result.append((\"sl \", run_test(bit_sl , num, a, b)))\n",
    "result.append((\"sr \", run_test(bit_sr , num, a, b)))\n",
    "print(\"a, b:\",22,22)\n",
    "print_results(result)\n",
    "print()\n",
    "\n",
    "a, b = 22, 0\n",
    "result = []\n",
    "result.append((\"and\", run_test(bit_and, num, a, b)))\n",
    "result.append((\"or \", run_test(bit_or , num, a, b)))\n",
    "result.append((\"xor\", run_test(bit_xor, num, a, b)))\n",
    "result.append((\"sl \", run_test(bit_sl , num, a, b)))\n",
    "result.append((\"sr \", run_test(bit_sr , num, a, b)))\n",
    "print(\"a, b:\",22,0)\n",
    "print_results(result)\n",
    "print()\n",
    "\n",
    "a, b = 0, 22\n",
    "result = []\n",
    "result.append((\"and\", run_test(bit_and, num, a, b)))\n",
    "result.append((\"or \", run_test(bit_or , num, a, b)))\n",
    "result.append((\"xor\", run_test(bit_xor, num, a, b)))\n",
    "result.append((\"sl \", run_test(bit_sl , num, a, b)))\n",
    "result.append((\"sr \", run_test(bit_sr , num, a, b)))\n",
    "print(\"a, b:\",0,22)\n",
    "print_results(result)\n",
    "print()\n"
   ]
  },
  {
   "cell_type": "code",
   "execution_count": 85,
   "metadata": {},
   "outputs": [
    {
     "name": "stdout",
     "output_type": "stream",
     "text": [
      "land: 2.8127 seconds (base)\n",
      "lor: 3.2131 seconds, Speed relative to land: 0.88x\n",
      "xor: 2.9866 seconds, Speed relative to land: 0.94x\n",
      "== : 2.0931 seconds, Speed relative to land: 1.34x\n",
      "and: 2.2071 seconds, Speed relative to land: 1.27x\n",
      "or : 2.3117 seconds, Speed relative to land: 1.22x\n"
     ]
    }
   ],
   "source": [
    "def cmp_bit(a, b): return bool(a & b)\n",
    "def cmp_bit2(a, b): return bool(a | b)\n",
    "def cmp_bit3(a, b): return bool(a ^ b)\n",
    "def cmp_bool(a, b): return a == b\n",
    "def cmp_bool2(a, b): return a and b\n",
    "def cmp_bool3(a, b): return a or b\n",
    "\n",
    "num = 10_000_000\n",
    "a, b = 22, 22\n",
    "result = []\n",
    "result.append((\"land\", run_test(cmp_bit  , num, a, b)))\n",
    "result.append((\"lor\", run_test(cmp_bit2 , num, a, b)))\n",
    "result.append((\"xor\", run_test(cmp_bit3 , num, a, b)))\n",
    "result.append((\"== \", run_test(cmp_bool , num, a, b)))\n",
    "result.append((\"and\", run_test(cmp_bool2, num, a, b)))\n",
    "result.append((\"or \", run_test(cmp_bool3, num, a, b)))\n",
    "print_results(result)"
   ]
  },
  {
   "cell_type": "code",
   "execution_count": 90,
   "metadata": {},
   "outputs": [
    {
     "data": {
      "text/plain": [
       "[1, None, None, None, None, None, None, None, None, None]"
      ]
     },
     "execution_count": 90,
     "metadata": {},
     "output_type": "execute_result"
    }
   ],
   "source": [
    "a = [None] * 10\n",
    "a[0] = 1\n",
    "a"
   ]
  },
  {
   "cell_type": "code",
   "execution_count": 96,
   "metadata": {},
   "outputs": [
    {
     "name": "stdout",
     "output_type": "stream",
     "text": [
      "2.894084099913016\n",
      "2.9426833000034094\n"
     ]
    }
   ],
   "source": [
    "class Color(Enum):\n",
    "  red = 0\n",
    "  blue = 1\n",
    "  green = 2\n",
    "\n",
    "class Color2:\n",
    "  red = Color.red\n",
    "  blue = Color.blue\n",
    "  green = Color.green\n",
    "\n",
    "def f(e):\n",
    "  for _ in range(1000):\n",
    "    e.red\n",
    "    e.blue\n",
    "    e.green\n",
    "\n",
    "print(timeit.timeit('f(Color)', number=10000, globals=globals()))\n",
    "print(timeit.timeit('f(Color2)', number=10000, globals=globals()))\n"
   ]
  },
  {
   "cell_type": "code",
   "execution_count": 46,
   "metadata": {},
   "outputs": [
    {
     "ename": "NameError",
     "evalue": "name 'Color' is not defined",
     "output_type": "error",
     "traceback": [
      "\u001b[1;31m---------------------------------------------------------------------------\u001b[0m",
      "\u001b[1;31mNameError\u001b[0m                                 Traceback (most recent call last)",
      "Cell \u001b[1;32mIn[46], line 2\u001b[0m\n\u001b[1;32m----> 2\u001b[0m \u001b[38;5;28;01mdef\u001b[39;00m \u001b[38;5;21mmake_enum\u001b[39m(a:\u001b[38;5;28mint\u001b[39m) \u001b[38;5;241m-\u001b[39m\u001b[38;5;241m>\u001b[39m Color: \u001b[38;5;28;01mreturn\u001b[39;00m Color(a)\n",
      "\u001b[1;31mNameError\u001b[0m: name 'Color' is not defined"
     ]
    }
   ],
   "source": [
    "def make_int(a:int) -> int: return a\n",
    "def make_enum(a:int) -> Color: return Color(a)\n",
    "def cmp_int(a:int,b:int) -> bool: return a == b\n",
    "def cmp_enum(a:Color,b:Color) -> bool: return a == b\n",
    "def cmp_enum_int(a:Color,b:int) -> bool: return a.value == b\n",
    "def get_red() -> Color: return Color.red\n",
    "def get_red_val() -> int: return Color.red.value\n",
    "\n",
    "num = 10_000_000\n",
    "a, b, c, d = 1, 1, Color(1), Color(1)\n",
    "result = []\n",
    "result.append((\"mint \", run_test(make_int  , num, a)))\n",
    "result.append((\"menum\", run_test(make_enum , num, a)))\n",
    "result.append((\"cint \", run_test(cmp_int, num, a, b)))\n",
    "result.append((\"cenum\", run_test(cmp_enum, num, c, d)))\n",
    "result.append((\"cenin\", run_test(cmp_enum_int, num, c, b)))\n",
    "result.append((\"getre\", run_test(get_red, num)))\n",
    "result.append((\"reval\", run_test(get_red_val, num)))\n",
    "print_results(result)"
   ]
  },
  {
   "cell_type": "code",
   "execution_count": 55,
   "metadata": {},
   "outputs": [
    {
     "name": "stdout",
     "output_type": "stream",
     "text": [
      "True\n",
      "t1_a: 11.7175 seconds (base)\n",
      "t1_b: 11.9775 seconds, Speed relative to t1_a: 0.98x\n",
      "t2: 4.2991 seconds, Speed relative to t1_a: 2.73x\n"
     ]
    }
   ],
   "source": [
    "a = [i for i in range(100)]\n",
    "print(len(a[:None]) == len(a[:100]) == 100)\n",
    "\n",
    "def t1(a, b=None): return a[:b]\n",
    "num = 10_000_000\n",
    "result = []\n",
    "result.append((\"t1_a\", run_test(t1, num, a)))\n",
    "result.append((\"t1_b\", run_test(t1, num, a, 100)))\n",
    "result.append((\"t2\", run_test(t1, num, a, 0)))\n",
    "print_results(result)\n"
   ]
  }
 ],
 "metadata": {
  "kernelspec": {
   "display_name": ".venv",
   "language": "python",
   "name": "python3"
  },
  "language_info": {
   "codemirror_mode": {
    "name": "ipython",
    "version": 3
   },
   "file_extension": ".py",
   "mimetype": "text/x-python",
   "name": "python",
   "nbconvert_exporter": "python",
   "pygments_lexer": "ipython3",
   "version": "3.12.3"
  }
 },
 "nbformat": 4,
 "nbformat_minor": 2
}
