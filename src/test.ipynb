{
 "cells": [
  {
   "cell_type": "code",
   "execution_count": 1,
   "metadata": {},
   "outputs": [
    {
     "name": "stderr",
     "output_type": "stream",
     "text": [
      "SearchClient initializing. I am sending this using the error output stream.\n"
     ]
    },
    {
     "name": "stdout",
     "output_type": "stream",
     "text": [
      "SearchClient\n",
      "#This is a comment.\n"
     ]
    }
   ],
   "source": [
    "from searchclient import SearchClient\n",
    "\n",
    "SearchClient.main(\"-bfs --test-name bfs --test-folder ../benchmarks/exercise2\")"
   ]
  },
  {
   "cell_type": "code",
   "execution_count": 7,
   "metadata": {},
   "outputs": [],
   "source": [
    "from atom import AgentAt, Location\n",
    "\n",
    "loc1 = Location(0,2)"
   ]
  },
  {
   "cell_type": "code",
   "execution_count": 20,
   "metadata": {},
   "outputs": [],
   "source": [
    "Location.all_locations.remove(Location(0,1))"
   ]
  },
  {
   "cell_type": "code",
   "execution_count": 22,
   "metadata": {},
   "outputs": [],
   "source": [
    "Location.all_locations.append(Location(0,1))"
   ]
  },
  {
   "cell_type": "code",
   "execution_count": 14,
   "metadata": {},
   "outputs": [
    {
     "name": "stdout",
     "output_type": "stream",
     "text": [
      "False\n"
     ]
    }
   ],
   "source": [
    "from atom import Free, AgentAt, Location\n",
    "\n",
    "l1 = [AgentAt(0, Location(0,1)), Free(Location(0,2)),Free(Location(0,3))]\n",
    "l11 = [Free(Location(0,2)),Free(Location(0,3)), AgentAt(0, Location(0,1))]\n",
    "l2 = [AgentAt(0, Location(0,2)), Free(Location(0,1)),Free(Location(0,3))]\n",
    "print(set(l1)==set(l2))"
   ]
  },
  {
   "cell_type": "code",
   "execution_count": 16,
   "metadata": {},
   "outputs": [
    {
     "data": {
      "text/plain": [
       "{AgentAt((0, Loc(0 , 1))), Free(Loc(0 , 2)), Free(Loc(0 , 3))}"
      ]
     },
     "execution_count": 16,
     "metadata": {},
     "output_type": "execute_result"
    }
   ],
   "source": [
    "set(l1).union(set(l11))"
   ]
  },
  {
   "cell_type": "code",
   "execution_count": 13,
   "metadata": {},
   "outputs": [
    {
     "name": "stdout",
     "output_type": "stream",
     "text": [
      "True\n",
      "False\n",
      "True\n"
     ]
    }
   ],
   "source": [
    "a = AgentAt(0, Location(0,1))\n",
    "\n",
    "l1 = [a, Free(Location(0,1))]\n",
    "l2 = [AgentAt(0, Location(0,1)), Free(Location(0,1))]\n",
    "print(set(l1) == set(l2))\n",
    "l1.remove(a)\n",
    "print(set(l1) == set(l2))\n",
    "l1.append(AgentAt(0, Location(0,1)))\n",
    "print(set(l1) == set(l2))"
   ]
  },
  {
   "cell_type": "code",
   "execution_count": 23,
   "metadata": {},
   "outputs": [
    {
     "data": {
      "text/plain": [
       "[(0 , 2), (0 , 1), (0 , 1)]"
      ]
     },
     "execution_count": 23,
     "metadata": {},
     "output_type": "execute_result"
    }
   ],
   "source": [
    "Location.all_locations"
   ]
  },
  {
   "cell_type": "code",
   "execution_count": 9,
   "metadata": {},
   "outputs": [
    {
     "ename": "TypeError",
     "evalue": "Location.calculate_neighbours() missing 1 required positional argument: 'walls'",
     "output_type": "error",
     "traceback": [
      "\u001b[1;31m---------------------------------------------------------------------------\u001b[0m",
      "\u001b[1;31mTypeError\u001b[0m                                 Traceback (most recent call last)",
      "Cell \u001b[1;32mIn[9], line 1\u001b[0m\n\u001b[1;32m----> 1\u001b[0m loc1\u001b[38;5;241m.\u001b[39mcalculate_neighbours()\n",
      "\u001b[1;31mTypeError\u001b[0m: Location.calculate_neighbours() missing 1 required positional argument: 'walls'"
     ]
    }
   ],
   "source": [
    "loc1.calculate_neighbours([[True, False, True],[]])"
   ]
  },
  {
   "cell_type": "code",
   "execution_count": 8,
   "metadata": {},
   "outputs": [
    {
     "data": {
      "text/plain": [
       "[(0 , 1), (0 , 2)]"
      ]
     },
     "execution_count": 8,
     "metadata": {},
     "output_type": "execute_result"
    }
   ],
   "source": [
    "Location.all_locations"
   ]
  },
  {
   "cell_type": "code",
   "execution_count": null,
   "metadata": {},
   "outputs": [],
   "source": []
  }
 ],
 "metadata": {
  "kernelspec": {
   "display_name": "ML",
   "language": "python",
   "name": "python3"
  },
  "language_info": {
   "codemirror_mode": {
    "name": "ipython",
    "version": 3
   },
   "file_extension": ".py",
   "mimetype": "text/x-python",
   "name": "python",
   "nbconvert_exporter": "python",
   "pygments_lexer": "ipython3",
   "version": "3.12.2"
  }
 },
 "nbformat": 4,
 "nbformat_minor": 2
}
